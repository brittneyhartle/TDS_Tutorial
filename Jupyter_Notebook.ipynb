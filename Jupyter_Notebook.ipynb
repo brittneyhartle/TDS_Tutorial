{
 "cells": [
  {
   "cell_type": "markdown",
   "metadata": {},
   "source": [
    "<center>\n",
    "    <img src=\"https://cf-courses-data.s3.us.cloud-object-storage.appdomain.cloud/IBMDeveloperSkillsNetwork-DS0105EN-SkillsNetwork/labs/Module2/images/SN_web_lightmode.png\" width=\"300\" alt=\"cognitiveclass.ai logo\">\n",
    "</center>\n"
   ]
  },
  {
   "cell_type": "markdown",
   "metadata": {},
   "source": [
    "#### Add your code below following the instructions given in the course\n"
   ]
  },
  {
   "cell_type": "markdown",
   "metadata": {},
   "source": [
    "# My Jupyter Notebook on IBM Watson Studio"
   ]
  },
  {
   "cell_type": "markdown",
   "metadata": {},
   "source": [
    "**Brittney**<br />\n",
    "My current occupation is Postdoctoral Fellow."
   ]
  },
  {
   "cell_type": "markdown",
   "metadata": {},
   "source": [
    "*I am interested in data science because I enjoy the data related aspects of psychology research and want to migrate my career from academia to a data science career in industry.*"
   ]
  },
  {
   "cell_type": "markdown",
   "metadata": {},
   "source": [
    "### My code below finds the product of six and three"
   ]
  },
  {
   "cell_type": "code",
   "execution_count": 3,
   "metadata": {},
   "outputs": [
    {
     "name": "stdout",
     "output_type": "stream",
     "text": [
      "18\n"
     ]
    }
   ],
   "source": [
    "result = 6 * 3\n",
    "print(result)"
   ]
  },
  {
   "cell_type": "markdown",
   "metadata": {},
   "source": [
    "---\n",
    "Here are the weekdays as a numbered list:\n",
    "\n",
    "1. Sunday\n",
    "2. Monday\n",
    "3. Tuesday\n",
    "4. Wednesday\n",
    "5. Thursday\n",
    "6. Friday\n",
    "7. Saturday\n",
    "\n",
    "---\n",
    "Here is a sample data set as a table:\n",
    "\n",
    "| Name          | Age  | Gender  |\n",
    "| ------------- | ---- | ------- |\n",
    "| Mark          | 42   | M       |\n",
    "| Jessica       | 27   | F       |\n",
    "| Taylor        | 31   | M       |\n",
    "\n",
    "---\n",
    "Here is a sample of block quotes:\n",
    "\n",
    "> This is a block quote. It will draw the readers attention to the text. It looks nice and neat. **Bold** and *italic* text also works in blockquotes. \n"
   ]
  }
 ],
 "metadata": {
  "kernelspec": {
   "display_name": "Python",
   "language": "python",
   "name": "conda-env-python-py"
  },
  "language_info": {
   "codemirror_mode": {
    "name": "ipython",
    "version": 3
   },
   "file_extension": ".py",
   "mimetype": "text/x-python",
   "name": "python",
   "nbconvert_exporter": "python",
   "pygments_lexer": "ipython3",
   "version": "3.7.12"
  }
 },
 "nbformat": 4,
 "nbformat_minor": 4
}
